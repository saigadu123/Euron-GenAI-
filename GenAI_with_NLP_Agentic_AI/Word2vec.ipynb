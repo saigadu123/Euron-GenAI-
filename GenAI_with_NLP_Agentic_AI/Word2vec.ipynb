{
 "cells": [
  {
   "cell_type": "code",
   "execution_count": 42,
   "id": "f0ce3fb7",
   "metadata": {},
   "outputs": [
    {
     "name": "stdout",
     "output_type": "stream",
     "text": [
      "Requirement already satisfied: gensim in c:\\one-drive\\onedrive - tredence\\euron-genai-\\euronvenv\\lib\\site-packages (4.3.3)\n",
      "Requirement already satisfied: numpy<2.0,>=1.18.5 in c:\\one-drive\\onedrive - tredence\\euron-genai-\\euronvenv\\lib\\site-packages (from gensim) (1.26.4)\n",
      "Requirement already satisfied: scipy<1.14.0,>=1.7.0 in c:\\one-drive\\onedrive - tredence\\euron-genai-\\euronvenv\\lib\\site-packages (from gensim) (1.13.1)\n",
      "Requirement already satisfied: smart-open>=1.8.1 in c:\\one-drive\\onedrive - tredence\\euron-genai-\\euronvenv\\lib\\site-packages (from gensim) (7.1.0)\n",
      "Requirement already satisfied: wrapt in c:\\one-drive\\onedrive - tredence\\euron-genai-\\euronvenv\\lib\\site-packages (from smart-open>=1.8.1->gensim) (1.17.2)\n"
     ]
    },
    {
     "name": "stderr",
     "output_type": "stream",
     "text": [
      "\n",
      "[notice] A new release of pip is available: 23.2.1 -> 25.1.1\n",
      "[notice] To update, run: python.exe -m pip install --upgrade pip\n"
     ]
    }
   ],
   "source": [
    "!pip install gensim"
   ]
  },
  {
   "cell_type": "code",
   "execution_count": 43,
   "id": "913d4c19",
   "metadata": {},
   "outputs": [
    {
     "name": "stdout",
     "output_type": "stream",
     "text": [
      "Requirement already satisfied: matplotlib in c:\\one-drive\\onedrive - tredence\\euron-genai-\\euronvenv\\lib\\site-packages (3.10.3)\n",
      "Requirement already satisfied: contourpy>=1.0.1 in c:\\one-drive\\onedrive - tredence\\euron-genai-\\euronvenv\\lib\\site-packages (from matplotlib) (1.3.2)\n",
      "Requirement already satisfied: cycler>=0.10 in c:\\one-drive\\onedrive - tredence\\euron-genai-\\euronvenv\\lib\\site-packages (from matplotlib) (0.12.1)\n",
      "Requirement already satisfied: fonttools>=4.22.0 in c:\\one-drive\\onedrive - tredence\\euron-genai-\\euronvenv\\lib\\site-packages (from matplotlib) (4.58.2)\n",
      "Requirement already satisfied: kiwisolver>=1.3.1 in c:\\one-drive\\onedrive - tredence\\euron-genai-\\euronvenv\\lib\\site-packages (from matplotlib) (1.4.8)\n",
      "Requirement already satisfied: numpy>=1.23 in c:\\one-drive\\onedrive - tredence\\euron-genai-\\euronvenv\\lib\\site-packages (from matplotlib) (1.26.4)\n",
      "Requirement already satisfied: packaging>=20.0 in c:\\one-drive\\onedrive - tredence\\euron-genai-\\euronvenv\\lib\\site-packages (from matplotlib) (25.0)\n",
      "Requirement already satisfied: pillow>=8 in c:\\one-drive\\onedrive - tredence\\euron-genai-\\euronvenv\\lib\\site-packages (from matplotlib) (11.2.1)\n",
      "Requirement already satisfied: pyparsing>=2.3.1 in c:\\one-drive\\onedrive - tredence\\euron-genai-\\euronvenv\\lib\\site-packages (from matplotlib) (3.2.3)\n",
      "Requirement already satisfied: python-dateutil>=2.7 in c:\\one-drive\\onedrive - tredence\\euron-genai-\\euronvenv\\lib\\site-packages (from matplotlib) (2.9.0.post0)\n",
      "Requirement already satisfied: six>=1.5 in c:\\one-drive\\onedrive - tredence\\euron-genai-\\euronvenv\\lib\\site-packages (from python-dateutil>=2.7->matplotlib) (1.17.0)\n"
     ]
    },
    {
     "name": "stderr",
     "output_type": "stream",
     "text": [
      "\n",
      "[notice] A new release of pip is available: 23.2.1 -> 25.1.1\n",
      "[notice] To update, run: python.exe -m pip install --upgrade pip\n"
     ]
    }
   ],
   "source": [
    "!pip install matplotlib"
   ]
  },
  {
   "cell_type": "code",
   "execution_count": 44,
   "id": "d0df5349",
   "metadata": {},
   "outputs": [],
   "source": [
    "import gensim\n",
    "import nltk\n",
    "import string\n",
    "from gensim.models import Word2Vec\n",
    "from nltk.tokenize import word_tokenize\n",
    "import matplotlib.pyplot as plt\n",
    "from nltk.corpus import stopwords\n",
    "import numpy as np\n",
    "import re "
   ]
  },
  {
   "cell_type": "code",
   "execution_count": 45,
   "id": "42ade511",
   "metadata": {},
   "outputs": [
    {
     "name": "stderr",
     "output_type": "stream",
     "text": [
      "[nltk_data] Downloading package stopwords to\n",
      "[nltk_data]     C:\\Users\\gorantla.krishna\\AppData\\Roaming\\nltk_data...\n",
      "[nltk_data]   Package stopwords is already up-to-date!\n",
      "[nltk_data] Downloading package punkt to\n",
      "[nltk_data]     C:\\Users\\gorantla.krishna\\AppData\\Roaming\\nltk_data...\n",
      "[nltk_data]   Package punkt is already up-to-date!\n"
     ]
    },
    {
     "data": {
      "text/plain": [
       "True"
      ]
     },
     "execution_count": 45,
     "metadata": {},
     "output_type": "execute_result"
    }
   ],
   "source": [
    "nltk.download(\"stopwords\")\n",
    "nltk.download(\"punkt\")"
   ]
  },
  {
   "cell_type": "code",
   "execution_count": 46,
   "id": "1d22d6c3",
   "metadata": {},
   "outputs": [],
   "source": [
    "corpus = [\n",
    "    \"My name is sudhanshu kumar.\",\n",
    "    \"I use to teach all the data stack along with Ops and cloud !\",\n",
    "    \"Nlp is very very amazing\",\n",
    "    \"We are trying to learn Word2vec\",\n",
    "    \"We will try to build two models for word2vec CBOW and skip-gram\"\n",
    "    \"Natural language processing is part of AI.\",\n",
    "    \"My phone number is 74634\",\n",
    "    \"Word2vec is being used for the word embeddings\",\n",
    "\n",
    "]\n",
    "\n"
   ]
  },
  {
   "cell_type": "code",
   "execution_count": 47,
   "id": "7eb05cbf",
   "metadata": {},
   "outputs": [],
   "source": [
    "def word_preprocessing(text):\n",
    "    text = text.lower()\n",
    "    text = re.sub(r'\\d+',\"\",text)\n",
    "    text = text.translate(str.maketrans(\"\",\"\",string.punctuation))\n",
    "    word = word_tokenize(text)\n",
    "    word = [i for i in word if i not in stopwords.words(\"english\")]\n",
    "    return word \n",
    "\n"
   ]
  },
  {
   "cell_type": "code",
   "execution_count": 48,
   "id": "ba897f39",
   "metadata": {},
   "outputs": [],
   "source": [
    "processed_corpus = [word_preprocessing(sentence) for sentence in corpus]\n"
   ]
  },
  {
   "cell_type": "code",
   "execution_count": 49,
   "id": "aca734d8",
   "metadata": {},
   "outputs": [
    {
     "data": {
      "text/plain": [
       "[['name', 'sudhanshu', 'kumar'],\n",
       " ['use', 'teach', 'data', 'stack', 'along', 'ops', 'cloud'],\n",
       " ['nlp', 'amazing'],\n",
       " ['trying', 'learn', 'wordvec'],\n",
       " ['try',\n",
       "  'build',\n",
       "  'two',\n",
       "  'models',\n",
       "  'wordvec',\n",
       "  'cbow',\n",
       "  'skipgramnatural',\n",
       "  'language',\n",
       "  'processing',\n",
       "  'part',\n",
       "  'ai'],\n",
       " ['phone', 'number'],\n",
       " ['wordvec', 'used', 'word', 'embeddings']]"
      ]
     },
     "execution_count": 49,
     "metadata": {},
     "output_type": "execute_result"
    }
   ],
   "source": [
    "processed_corpus"
   ]
  },
  {
   "cell_type": "code",
   "execution_count": 50,
   "id": "b261fea7",
   "metadata": {},
   "outputs": [],
   "source": [
    "word2vec_cbow = Word2Vec(sentences=processed_corpus,vector_size=100,window=5,min_count=1,sg=0)\n",
    "word2vec_sg = Word2Vec(sentences=processed_corpus,vector_size=100,window=5,min_count=1,sg=1)"
   ]
  },
  {
   "cell_type": "code",
   "execution_count": 51,
   "id": "a0f1b8b4",
   "metadata": {},
   "outputs": [
    {
     "data": {
      "text/plain": [
       "<gensim.models.word2vec.Word2Vec at 0x1e8f51cde50>"
      ]
     },
     "execution_count": 51,
     "metadata": {},
     "output_type": "execute_result"
    }
   ],
   "source": [
    "word2vec_cbow"
   ]
  },
  {
   "cell_type": "code",
   "execution_count": 52,
   "id": "c5221737",
   "metadata": {},
   "outputs": [
    {
     "data": {
      "text/plain": [
       "array([ 9.2049537e-05,  3.0789657e-03, -6.8130936e-03, -1.3770603e-03,\n",
       "        7.6694051e-03,  7.3461924e-03, -3.6735781e-03,  2.6438553e-03,\n",
       "       -8.3174938e-03,  6.2045138e-03, -4.6364213e-03, -3.1637731e-03,\n",
       "        9.3133599e-03,  8.7211747e-04,  7.4949088e-03, -6.0750670e-03,\n",
       "        5.1640323e-03,  9.9217929e-03, -8.4586060e-03, -5.1345965e-03,\n",
       "       -7.0647183e-03, -4.8639565e-03, -3.7761584e-03, -8.5367290e-03,\n",
       "        7.9541095e-03, -4.8434488e-03,  8.4257908e-03,  5.2650212e-03,\n",
       "       -6.5494534e-03,  3.9584367e-03,  5.4718135e-03, -7.4277967e-03,\n",
       "       -7.4088452e-03, -2.4761455e-03, -8.6262273e-03, -1.5815721e-03,\n",
       "       -4.0155341e-04,  3.2990421e-03,  1.4396025e-03, -8.7808364e-04,\n",
       "       -5.5933860e-03,  1.7328055e-03, -8.9520431e-04,  6.7926934e-03,\n",
       "        3.9757444e-03,  4.5307223e-03,  1.4354242e-03, -2.6998974e-03,\n",
       "       -4.3684910e-03, -1.0327508e-03,  1.4383747e-03, -2.6453969e-03,\n",
       "       -7.0758117e-03, -7.8075523e-03, -9.1247652e-03, -5.9355521e-03,\n",
       "       -1.8463361e-03, -4.3210029e-03, -6.4589083e-03, -3.7187121e-03,\n",
       "        4.2890483e-03, -3.7391211e-03,  8.3802221e-03,  1.5349082e-03,\n",
       "       -7.2423513e-03,  9.4336085e-03,  7.6324572e-03,  5.4952009e-03,\n",
       "       -6.8497839e-03,  5.8228625e-03,  4.0104841e-03,  5.1856614e-03,\n",
       "        4.2563868e-03,  1.9416478e-03, -3.1707049e-03,  8.3538722e-03,\n",
       "        9.6131954e-03,  3.7943874e-03, -2.8388361e-03,  7.7813966e-06,\n",
       "        1.2174882e-03, -8.4586209e-03, -8.2236817e-03, -2.2977569e-04,\n",
       "        1.2379736e-03, -5.7453080e-03, -4.7250791e-03, -7.3454068e-03,\n",
       "        8.3291605e-03,  1.1974343e-04, -4.5108004e-03,  5.7014464e-03,\n",
       "        9.1799134e-03, -4.1022273e-03,  7.9671871e-03,  5.3771562e-03,\n",
       "        5.8827670e-03,  5.1112496e-04,  8.2149403e-03, -7.0205298e-03],\n",
       "      dtype=float32)"
      ]
     },
     "execution_count": 52,
     "metadata": {},
     "output_type": "execute_result"
    }
   ],
   "source": [
    "word2vec_sg.wv['sudhanshu']"
   ]
  },
  {
   "cell_type": "code",
   "execution_count": 53,
   "id": "f191c031",
   "metadata": {},
   "outputs": [
    {
     "data": {
      "text/plain": [
       "[('along', 0.19913709163665771),\n",
       " ('nlp', 0.1727299690246582),\n",
       " ('name', 0.17114832997322083)]"
      ]
     },
     "execution_count": 53,
     "metadata": {},
     "output_type": "execute_result"
    }
   ],
   "source": [
    "word2vec_sg.wv.most_similar(\"sudhanshu\",topn=3)"
   ]
  },
  {
   "cell_type": "code",
   "execution_count": 54,
   "id": "7edc4b49",
   "metadata": {},
   "outputs": [
    {
     "data": {
      "text/plain": [
       "0.040243704"
      ]
     },
     "execution_count": 54,
     "metadata": {},
     "output_type": "execute_result"
    }
   ],
   "source": [
    "word2vec_cbow.wv.similarity(\"nlp\",\"ai\")"
   ]
  },
  {
   "cell_type": "code",
   "execution_count": 55,
   "id": "e930b9cd",
   "metadata": {},
   "outputs": [
    {
     "data": {
      "text/plain": [
       "['wordvec',\n",
       " 'word',\n",
       " 'sudhanshu',\n",
       " 'kumar',\n",
       " 'use',\n",
       " 'teach',\n",
       " 'data',\n",
       " 'stack',\n",
       " 'along',\n",
       " 'ops',\n",
       " 'cloud',\n",
       " 'nlp',\n",
       " 'amazing',\n",
       " 'trying',\n",
       " 'learn',\n",
       " 'embeddings',\n",
       " 'try',\n",
       " 'build',\n",
       " 'two',\n",
       " 'models',\n",
       " 'cbow',\n",
       " 'skipgramnatural',\n",
       " 'language',\n",
       " 'processing',\n",
       " 'part',\n",
       " 'ai',\n",
       " 'phone',\n",
       " 'number',\n",
       " 'used',\n",
       " 'name']"
      ]
     },
     "execution_count": 55,
     "metadata": {},
     "output_type": "execute_result"
    }
   ],
   "source": [
    "word2vec_cbow.wv.index_to_key"
   ]
  },
  {
   "cell_type": "code",
   "execution_count": 56,
   "id": "eb83fcdf",
   "metadata": {},
   "outputs": [
    {
     "data": {
      "text/plain": [
       "[('along', 0.19913624227046967),\n",
       " ('nlp', 0.17274262011051178),\n",
       " ('name', 0.1711503118276596),\n",
       " ('use', 0.17017261683940887),\n",
       " ('two', 0.15280553698539734)]"
      ]
     },
     "execution_count": 56,
     "metadata": {},
     "output_type": "execute_result"
    }
   ],
   "source": [
    "word2vec_cbow.wv.most_similar(\"sudhanshu\",topn=5)"
   ]
  },
  {
   "cell_type": "code",
   "execution_count": 57,
   "id": "cd4d7429",
   "metadata": {},
   "outputs": [
    {
     "data": {
      "text/plain": [
       "[('along', 0.19913709163665771),\n",
       " ('nlp', 0.1727299690246582),\n",
       " ('name', 0.17114832997322083),\n",
       " ('use', 0.1701723337173462),\n",
       " ('two', 0.1528129130601883)]"
      ]
     },
     "execution_count": 57,
     "metadata": {},
     "output_type": "execute_result"
    }
   ],
   "source": [
    "word2vec_sg.wv.most_similar(\"sudhanshu\",topn=5)"
   ]
  },
  {
   "cell_type": "code",
   "execution_count": 58,
   "id": "3ad15fb1",
   "metadata": {},
   "outputs": [],
   "source": [
    "from sklearn.manifold import TSNE\n",
    "import numpy as np\n",
    "\n"
   ]
  },
  {
   "cell_type": "code",
   "execution_count": 59,
   "id": "b2c45186",
   "metadata": {},
   "outputs": [],
   "source": [
    "word_vectors = word2vec_cbow.wv \n",
    "vocab = word_vectors.index_to_key"
   ]
  },
  {
   "cell_type": "code",
   "execution_count": 60,
   "id": "df6b233d",
   "metadata": {},
   "outputs": [
    {
     "data": {
      "text/plain": [
       "30"
      ]
     },
     "execution_count": 60,
     "metadata": {},
     "output_type": "execute_result"
    }
   ],
   "source": [
    "len(vocab)"
   ]
  },
  {
   "cell_type": "code",
   "execution_count": 61,
   "id": "9063f667",
   "metadata": {},
   "outputs": [],
   "source": [
    "x = np.array([word_vectors[i] for i in vocab])"
   ]
  },
  {
   "cell_type": "code",
   "execution_count": 64,
   "id": "260c4ba0",
   "metadata": {},
   "outputs": [],
   "source": [
    "tsne = TSNE(n_components=2,perplexity=1)"
   ]
  },
  {
   "cell_type": "code",
   "execution_count": 66,
   "id": "ff8d28b7",
   "metadata": {},
   "outputs": [],
   "source": [
    "x_new_embeddings = tsne.fit_transform(x)"
   ]
  },
  {
   "cell_type": "code",
   "execution_count": 67,
   "id": "e4c7efc9",
   "metadata": {},
   "outputs": [
    {
     "data": {
      "text/plain": [
       "<matplotlib.collections.PathCollection at 0x1e8f51f0650>"
      ]
     },
     "execution_count": 67,
     "metadata": {},
     "output_type": "execute_result"
    },
    {
     "data": {
      "image/png": "[encoded data removed]",
      "text/plain": [
       "<Figure size 1200x600 with 1 Axes>"
      ]
     },
     "metadata": {},
     "output_type": "display_data"
    }
   ],
   "source": [
    "plt.figure(figsize=(12,6))\n",
    "plt.scatter(x_new_embeddings[:,0],x_new_embeddings[:,1],marker='o')"
   ]
  },
  {
   "cell_type": "code",
   "execution_count": 68,
   "id": "472baa95",
   "metadata": {},
   "outputs": [
    {
     "data": {
      "image/png": "[encoded data removed]",
      "text/plain": [
       "<Figure size 1200x600 with 1 Axes>"
      ]
     },
     "metadata": {},
     "output_type": "display_data"
    }
   ],
   "source": [
    "plt.figure(figsize=(12,6))\n",
    "plt.scatter(x_new_embeddings[:,0],x_new_embeddings[:,1],marker='o')\n",
    "\n",
    "for i,words in enumerate(vocab[:len(x_new_embeddings)]):\n",
    "    plt.annotate(words,xy=(x_new_embeddings[i,0],x_new_embeddings[i,1]))"
   ]
  },
  {
   "cell_type": "code",
   "execution_count": null,
   "id": "aa325f7d",
   "metadata": {},
   "outputs": [],
   "source": []
  }
 ],
 "metadata": {
  "kernelspec": {
   "display_name": "euronvenv",
   "language": "python",
   "name": "python3"
  },
  "language_info": {
   "codemirror_mode": {
    "name": "ipython",
    "version": 3
   },
   "file_extension": ".py",
   "mimetype": "text/x-python",
   "name": "python",
   "nbconvert_exporter": "python",
   "pygments_lexer": "ipython3",
   "version": "3.11.5"
  }
 },
 "nbformat": 4,
 "nbformat_minor": 5
}
